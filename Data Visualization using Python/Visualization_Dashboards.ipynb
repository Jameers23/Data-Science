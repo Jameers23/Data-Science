{
  "nbformat": 4,
  "nbformat_minor": 0,
  "metadata": {
    "colab": {
      "provenance": []
    },
    "kernelspec": {
      "name": "python3",
      "display_name": "Python 3"
    },
    "language_info": {
      "name": "python"
    }
  },
  "cells": [
    {
      "cell_type": "code",
      "execution_count": 12,
      "metadata": {
        "id": "UsrgCewwfgZ9"
      },
      "outputs": [],
      "source": [
        "from dash import Dash, dcc, html, Input, Output"
      ]
    },
    {
      "cell_type": "code",
      "source": [
        "app = Dash()\n",
        "\n",
        "app.layout = html.Div(children =[\n",
        "    html.H1(\"Dash Tutorial\"),\n",
        "    dcc.Graph(\n",
        "        id =\"example\",\n",
        "        figure ={\n",
        "            'data':[\n",
        "                       {'x':[1, 2, 3, 4, 5],\n",
        "                        'y':[5, 4, 7, 4, 8],\n",
        "                        'type':'line',\n",
        "                        'name':'Trucks'},\n",
        "                       {'x':[1, 2, 3, 4, 5],\n",
        "                        'y':[6, 3, 5, 3, 7],\n",
        "                        'type':'bar',\n",
        "                        'name':'Ships'}\n",
        "                   ],\n",
        "            'layout':{\n",
        "                'title':'Basic Dashboard'\n",
        "            }\n",
        "        }\n",
        "    )\n",
        "])"
      ],
      "metadata": {
        "id": "IahfZcHVf-M5"
      },
      "execution_count": 13,
      "outputs": []
    },
    {
      "cell_type": "code",
      "source": [
        "app.run_server()"
      ],
      "metadata": {
        "colab": {
          "base_uri": "https://localhost:8080/",
          "height": 671
        },
        "id": "R4Sf1-8WgQD0",
        "outputId": "33edf2d0-8d62-40b4-e9e5-282c65aad64e"
      },
      "execution_count": 14,
      "outputs": [
        {
          "output_type": "display_data",
          "data": {
            "text/plain": [
              "<IPython.core.display.Javascript object>"
            ],
            "application/javascript": [
              "(async (port, path, width, height, cache, element) => {\n",
              "    if (!google.colab.kernel.accessAllowed && !cache) {\n",
              "      return;\n",
              "    }\n",
              "    element.appendChild(document.createTextNode(''));\n",
              "    const url = await google.colab.kernel.proxyPort(port, {cache});\n",
              "    const iframe = document.createElement('iframe');\n",
              "    iframe.src = new URL(path, url).toString();\n",
              "    iframe.height = height;\n",
              "    iframe.width = width;\n",
              "    iframe.style.border = 0;\n",
              "    iframe.allow = [\n",
              "        'accelerometer',\n",
              "        'autoplay',\n",
              "        'camera',\n",
              "        'clipboard-read',\n",
              "        'clipboard-write',\n",
              "        'gyroscope',\n",
              "        'magnetometer',\n",
              "        'microphone',\n",
              "        'serial',\n",
              "        'usb',\n",
              "        'xr-spatial-tracking',\n",
              "    ].join('; ');\n",
              "    element.appendChild(iframe);\n",
              "  })(8050, \"/\", \"100%\", 650, false, window.element)"
            ]
          },
          "metadata": {}
        }
      ]
    },
    {
      "cell_type": "code",
      "source": [
        "app = Dash()\n",
        "\n",
        "app.layout = html.Div(children =[\n",
        "    dcc.Input(id ='input',\n",
        "              value ='Enter a number',\n",
        "              type ='text'),\n",
        "\n",
        "    html.Div(id ='output')\n",
        "])"
      ],
      "metadata": {
        "id": "B4yGN_vJgyR0"
      },
      "execution_count": 15,
      "outputs": []
    },
    {
      "cell_type": "code",
      "source": [
        "@app.callback(\n",
        "    Output(component_id ='output', component_property ='children'),\n",
        "    [Input(component_id ='input', component_property ='value')]\n",
        ")\n",
        "\n",
        "def update_value(input_data):\n",
        "    try:\n",
        "        return str(float(input_data)**2)\n",
        "    except:\n",
        "        return \"Error, the input is not a number\""
      ],
      "metadata": {
        "id": "5UY7Krxgg3ZF"
      },
      "execution_count": 16,
      "outputs": []
    },
    {
      "cell_type": "code",
      "source": [
        "app.run_server()"
      ],
      "metadata": {
        "colab": {
          "base_uri": "https://localhost:8080/",
          "height": 671
        },
        "id": "yeBBY-w8hI5Y",
        "outputId": "b737f773-a575-44e5-92dc-7a1579fff1ef"
      },
      "execution_count": 17,
      "outputs": [
        {
          "output_type": "display_data",
          "data": {
            "text/plain": [
              "<IPython.core.display.Javascript object>"
            ],
            "application/javascript": [
              "(async (port, path, width, height, cache, element) => {\n",
              "    if (!google.colab.kernel.accessAllowed && !cache) {\n",
              "      return;\n",
              "    }\n",
              "    element.appendChild(document.createTextNode(''));\n",
              "    const url = await google.colab.kernel.proxyPort(port, {cache});\n",
              "    const iframe = document.createElement('iframe');\n",
              "    iframe.src = new URL(path, url).toString();\n",
              "    iframe.height = height;\n",
              "    iframe.width = width;\n",
              "    iframe.style.border = 0;\n",
              "    iframe.allow = [\n",
              "        'accelerometer',\n",
              "        'autoplay',\n",
              "        'camera',\n",
              "        'clipboard-read',\n",
              "        'clipboard-write',\n",
              "        'gyroscope',\n",
              "        'magnetometer',\n",
              "        'microphone',\n",
              "        'serial',\n",
              "        'usb',\n",
              "        'xr-spatial-tracking',\n",
              "    ].join('; ');\n",
              "    element.appendChild(iframe);\n",
              "  })(8050, \"/\", \"100%\", 650, false, window.element)"
            ]
          },
          "metadata": {}
        }
      ]
    },
    {
      "cell_type": "code",
      "source": [
        "from dash import Dash, html, dash_table, dcc\n",
        "import pandas as pd\n",
        "import plotly.express as px\n",
        "\n",
        "# Incorporate data\n",
        "df = pd.read_csv('https://raw.githubusercontent.com/plotly/datasets/master/gapminder2007.csv')\n",
        "\n",
        "# Initialize the app\n",
        "app = Dash()\n",
        "\n",
        "# App layout\n",
        "app.layout = [\n",
        "    html.Div(children='My First App with Data and a Graph'),\n",
        "    dash_table.DataTable(data=df.to_dict('records'), page_size=10),\n",
        "    dcc.Graph(figure=px.histogram(df, x='continent', y='lifeExp', histfunc='avg'))\n",
        "]\n",
        "\n",
        "# Run the app\n",
        "app.run(debug=True)"
      ],
      "metadata": {
        "colab": {
          "base_uri": "https://localhost:8080/",
          "height": 671
        },
        "id": "yo8itXBekTda",
        "outputId": "848b30e9-6bf3-4fd6-b757-0f56e417ebe0"
      },
      "execution_count": 19,
      "outputs": [
        {
          "output_type": "display_data",
          "data": {
            "text/plain": [
              "<IPython.core.display.Javascript object>"
            ],
            "application/javascript": [
              "(async (port, path, width, height, cache, element) => {\n",
              "    if (!google.colab.kernel.accessAllowed && !cache) {\n",
              "      return;\n",
              "    }\n",
              "    element.appendChild(document.createTextNode(''));\n",
              "    const url = await google.colab.kernel.proxyPort(port, {cache});\n",
              "    const iframe = document.createElement('iframe');\n",
              "    iframe.src = new URL(path, url).toString();\n",
              "    iframe.height = height;\n",
              "    iframe.width = width;\n",
              "    iframe.style.border = 0;\n",
              "    iframe.allow = [\n",
              "        'accelerometer',\n",
              "        'autoplay',\n",
              "        'camera',\n",
              "        'clipboard-read',\n",
              "        'clipboard-write',\n",
              "        'gyroscope',\n",
              "        'magnetometer',\n",
              "        'microphone',\n",
              "        'serial',\n",
              "        'usb',\n",
              "        'xr-spatial-tracking',\n",
              "    ].join('; ');\n",
              "    element.appendChild(iframe);\n",
              "  })(8050, \"/\", \"100%\", 650, false, window.element)"
            ]
          },
          "metadata": {}
        }
      ]
    },
    {
      "cell_type": "code",
      "source": [
        "# Import packages\n",
        "from dash import Dash, html, dash_table, dcc, callback, Output, Input\n",
        "import pandas as pd\n",
        "import plotly.express as px\n",
        "\n",
        "# Incorporate data\n",
        "df = pd.read_csv('https://raw.githubusercontent.com/plotly/datasets/master/gapminder2007.csv')\n",
        "\n",
        "# Initialize the app\n",
        "app = Dash()\n",
        "\n",
        "# App layout\n",
        "app.layout = [\n",
        "    html.Div(children='My First App with Data, Graph, and Controls'),\n",
        "    html.Hr(),\n",
        "    dcc.RadioItems(options=['pop', 'lifeExp', 'gdpPercap'], value='lifeExp', id='controls-and-radio-item'),\n",
        "    dash_table.DataTable(data=df.to_dict('records'), page_size=6),\n",
        "    dcc.Graph(figure={}, id='controls-and-graph')\n",
        "]\n",
        "\n",
        "# Add controls to build the interaction\n",
        "@callback(\n",
        "    Output(component_id='controls-and-graph', component_property='figure'),\n",
        "    Input(component_id='controls-and-radio-item', component_property='value')\n",
        ")\n",
        "def update_graph(col_chosen):\n",
        "    fig = px.histogram(df, x='continent', y=col_chosen, histfunc='avg')\n",
        "    return fig\n",
        "\n",
        "# Run the app\n",
        "app.run(debug=True)\n"
      ],
      "metadata": {
        "colab": {
          "base_uri": "https://localhost:8080/",
          "height": 671
        },
        "id": "HjZsRzSQlvzX",
        "outputId": "cce8006f-bfe0-472f-a30c-584933b4233b"
      },
      "execution_count": 20,
      "outputs": [
        {
          "output_type": "display_data",
          "data": {
            "text/plain": [
              "<IPython.core.display.Javascript object>"
            ],
            "application/javascript": [
              "(async (port, path, width, height, cache, element) => {\n",
              "    if (!google.colab.kernel.accessAllowed && !cache) {\n",
              "      return;\n",
              "    }\n",
              "    element.appendChild(document.createTextNode(''));\n",
              "    const url = await google.colab.kernel.proxyPort(port, {cache});\n",
              "    const iframe = document.createElement('iframe');\n",
              "    iframe.src = new URL(path, url).toString();\n",
              "    iframe.height = height;\n",
              "    iframe.width = width;\n",
              "    iframe.style.border = 0;\n",
              "    iframe.allow = [\n",
              "        'accelerometer',\n",
              "        'autoplay',\n",
              "        'camera',\n",
              "        'clipboard-read',\n",
              "        'clipboard-write',\n",
              "        'gyroscope',\n",
              "        'magnetometer',\n",
              "        'microphone',\n",
              "        'serial',\n",
              "        'usb',\n",
              "        'xr-spatial-tracking',\n",
              "    ].join('; ');\n",
              "    element.appendChild(iframe);\n",
              "  })(8050, \"/\", \"100%\", 650, false, window.element)"
            ]
          },
          "metadata": {}
        }
      ]
    },
    {
      "cell_type": "code",
      "source": [
        "# Import packages\n",
        "from dash import Dash, html, dash_table, dcc, callback, Output, Input\n",
        "import pandas as pd\n",
        "import plotly.express as px\n",
        "\n",
        "# Incorporate data\n",
        "df = pd.read_csv('https://raw.githubusercontent.com/plotly/datasets/master/gapminder2007.csv')\n",
        "\n",
        "# Initialize the app - incorporate css\n",
        "external_stylesheets = ['https://codepen.io/chriddyp/pen/bWLwgP.css']\n",
        "app = Dash(external_stylesheets=external_stylesheets)\n",
        "\n",
        "# App layout\n",
        "app.layout = [\n",
        "    html.Div(className='row', children='My First App with Data, Graph, and Controls',\n",
        "             style={'textAlign': 'center', 'color': 'blue', 'fontSize': 30}),\n",
        "\n",
        "    html.Div(className='row', children=[\n",
        "        dcc.RadioItems(options=['pop', 'lifeExp', 'gdpPercap'],\n",
        "                       value='lifeExp',\n",
        "                       inline=True,\n",
        "                       id='my-radio-buttons-final')\n",
        "    ]),\n",
        "\n",
        "    html.Div(className='row', children=[\n",
        "        html.Div(className='six columns', children=[\n",
        "            dash_table.DataTable(data=df.to_dict('records'), page_size=11, style_table={'overflowX': 'auto'})\n",
        "        ]),\n",
        "        html.Div(className='six columns', children=[\n",
        "            dcc.Graph(figure={}, id='histo-chart-final')\n",
        "        ])\n",
        "    ])\n",
        "]\n",
        "\n",
        "# Add controls to build the interaction\n",
        "@callback(\n",
        "    Output(component_id='histo-chart-final', component_property='figure'),\n",
        "    Input(component_id='my-radio-buttons-final', component_property='value')\n",
        ")\n",
        "def update_graph(col_chosen):\n",
        "    fig = px.histogram(df, x='continent', y=col_chosen, histfunc='avg')\n",
        "    return fig\n",
        "\n",
        "# Run the app\n",
        "app.run(debug=True)\n"
      ],
      "metadata": {
        "colab": {
          "base_uri": "https://localhost:8080/",
          "height": 671
        },
        "id": "DnB0GLjcmQ-M",
        "outputId": "992c348c-585b-4206-9f14-6ebe8fe49639"
      },
      "execution_count": 21,
      "outputs": [
        {
          "output_type": "display_data",
          "data": {
            "text/plain": [
              "<IPython.core.display.Javascript object>"
            ],
            "application/javascript": [
              "(async (port, path, width, height, cache, element) => {\n",
              "    if (!google.colab.kernel.accessAllowed && !cache) {\n",
              "      return;\n",
              "    }\n",
              "    element.appendChild(document.createTextNode(''));\n",
              "    const url = await google.colab.kernel.proxyPort(port, {cache});\n",
              "    const iframe = document.createElement('iframe');\n",
              "    iframe.src = new URL(path, url).toString();\n",
              "    iframe.height = height;\n",
              "    iframe.width = width;\n",
              "    iframe.style.border = 0;\n",
              "    iframe.allow = [\n",
              "        'accelerometer',\n",
              "        'autoplay',\n",
              "        'camera',\n",
              "        'clipboard-read',\n",
              "        'clipboard-write',\n",
              "        'gyroscope',\n",
              "        'magnetometer',\n",
              "        'microphone',\n",
              "        'serial',\n",
              "        'usb',\n",
              "        'xr-spatial-tracking',\n",
              "    ].join('; ');\n",
              "    element.appendChild(iframe);\n",
              "  })(8050, \"/\", \"100%\", 650, false, window.element)"
            ]
          },
          "metadata": {}
        }
      ]
    }
  ]
}