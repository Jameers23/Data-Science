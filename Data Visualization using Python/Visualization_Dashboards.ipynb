{
  "nbformat": 4,
  "nbformat_minor": 0,
  "metadata": {
    "colab": {
      "provenance": []
    },
    "kernelspec": {
      "name": "python3",
      "display_name": "Python 3"
    },
    "language_info": {
      "name": "python"
    }
  },
  "cells": [
    {
      "cell_type": "code",
      "execution_count": 4,
      "metadata": {
        "id": "UsrgCewwfgZ9"
      },
      "outputs": [],
      "source": [
        "import dash\n",
        "from dash import dcc, html"
      ]
    },
    {
      "cell_type": "code",
      "source": [
        "app = dash.Dash()\n",
        "\n",
        "app.layout = html.Div(children =[\n",
        "    html.H1(\"Dash Tutorial\"),\n",
        "    dcc.Graph(\n",
        "        id =\"example\",\n",
        "        figure ={\n",
        "            'data':[\n",
        "                       {'x':[1, 2, 3, 4, 5],\n",
        "                        'y':[5, 4, 7, 4, 8],\n",
        "                        'type':'line',\n",
        "                        'name':'Trucks'},\n",
        "                       {'x':[1, 2, 3, 4, 5],\n",
        "                        'y':[6, 3, 5, 3, 7],\n",
        "                        'type':'bar',\n",
        "                        'name':'Ships'}\n",
        "                   ],\n",
        "            'layout':{\n",
        "                'title':'Basic Dashboard'\n",
        "            }\n",
        "        }\n",
        "    )\n",
        "])"
      ],
      "metadata": {
        "id": "IahfZcHVf-M5"
      },
      "execution_count": 5,
      "outputs": []
    },
    {
      "cell_type": "code",
      "source": [
        "app.run_server()"
      ],
      "metadata": {
        "colab": {
          "base_uri": "https://localhost:8080/",
          "height": 671
        },
        "id": "R4Sf1-8WgQD0",
        "outputId": "d606c8c3-382b-4af0-83bc-2d8a6826cb4f"
      },
      "execution_count": 6,
      "outputs": [
        {
          "output_type": "display_data",
          "data": {
            "text/plain": [
              "<IPython.core.display.Javascript object>"
            ],
            "application/javascript": [
              "(async (port, path, width, height, cache, element) => {\n",
              "    if (!google.colab.kernel.accessAllowed && !cache) {\n",
              "      return;\n",
              "    }\n",
              "    element.appendChild(document.createTextNode(''));\n",
              "    const url = await google.colab.kernel.proxyPort(port, {cache});\n",
              "    const iframe = document.createElement('iframe');\n",
              "    iframe.src = new URL(path, url).toString();\n",
              "    iframe.height = height;\n",
              "    iframe.width = width;\n",
              "    iframe.style.border = 0;\n",
              "    iframe.allow = [\n",
              "        'accelerometer',\n",
              "        'autoplay',\n",
              "        'camera',\n",
              "        'clipboard-read',\n",
              "        'clipboard-write',\n",
              "        'gyroscope',\n",
              "        'magnetometer',\n",
              "        'microphone',\n",
              "        'serial',\n",
              "        'usb',\n",
              "        'xr-spatial-tracking',\n",
              "    ].join('; ');\n",
              "    element.appendChild(iframe);\n",
              "  })(8050, \"/\", \"100%\", 650, false, window.element)"
            ]
          },
          "metadata": {}
        }
      ]
    },
    {
      "cell_type": "code",
      "source": [
        "from dash.dependencies import Input, Output"
      ],
      "metadata": {
        "id": "HMK-OydugSHk"
      },
      "execution_count": 7,
      "outputs": []
    },
    {
      "cell_type": "code",
      "source": [
        "app = dash.Dash()\n",
        "\n",
        "app.layout = html.Div(children =[\n",
        "    dcc.Input(id ='input',\n",
        "              value ='Enter a number',\n",
        "              type ='text'),\n",
        "\n",
        "    html.Div(id ='output')\n",
        "])"
      ],
      "metadata": {
        "id": "B4yGN_vJgyR0"
      },
      "execution_count": 8,
      "outputs": []
    },
    {
      "cell_type": "code",
      "source": [
        "@app.callback(\n",
        "    Output(component_id ='output', component_property ='children'),\n",
        "    [Input(component_id ='input', component_property ='value')]\n",
        ")\n",
        "\n",
        "def update_value(input_data):\n",
        "    try:\n",
        "        return str(float(input_data)**2)\n",
        "    except:\n",
        "        return \"Error, the input is not a number\""
      ],
      "metadata": {
        "id": "5UY7Krxgg3ZF"
      },
      "execution_count": 9,
      "outputs": []
    },
    {
      "cell_type": "code",
      "source": [
        "app.run_server()"
      ],
      "metadata": {
        "colab": {
          "base_uri": "https://localhost:8080/",
          "height": 671
        },
        "id": "yeBBY-w8hI5Y",
        "outputId": "d9c9367d-d734-45b9-9474-599b5b251638"
      },
      "execution_count": 11,
      "outputs": [
        {
          "output_type": "display_data",
          "data": {
            "text/plain": [
              "<IPython.core.display.Javascript object>"
            ],
            "application/javascript": [
              "(async (port, path, width, height, cache, element) => {\n",
              "    if (!google.colab.kernel.accessAllowed && !cache) {\n",
              "      return;\n",
              "    }\n",
              "    element.appendChild(document.createTextNode(''));\n",
              "    const url = await google.colab.kernel.proxyPort(port, {cache});\n",
              "    const iframe = document.createElement('iframe');\n",
              "    iframe.src = new URL(path, url).toString();\n",
              "    iframe.height = height;\n",
              "    iframe.width = width;\n",
              "    iframe.style.border = 0;\n",
              "    iframe.allow = [\n",
              "        'accelerometer',\n",
              "        'autoplay',\n",
              "        'camera',\n",
              "        'clipboard-read',\n",
              "        'clipboard-write',\n",
              "        'gyroscope',\n",
              "        'magnetometer',\n",
              "        'microphone',\n",
              "        'serial',\n",
              "        'usb',\n",
              "        'xr-spatial-tracking',\n",
              "    ].join('; ');\n",
              "    element.appendChild(iframe);\n",
              "  })(8050, \"/\", \"100%\", 650, false, window.element)"
            ]
          },
          "metadata": {}
        }
      ]
    },
    {
      "cell_type": "code",
      "source": [],
      "metadata": {
        "id": "Sm6c-T02hJaQ"
      },
      "execution_count": null,
      "outputs": []
    }
  ]
}