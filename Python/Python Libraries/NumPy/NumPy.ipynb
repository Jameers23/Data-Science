{
  "nbformat": 4,
  "nbformat_minor": 0,
  "metadata": {
    "colab": {
      "provenance": []
    },
    "kernelspec": {
      "name": "python3",
      "display_name": "Python 3"
    },
    "language_info": {
      "name": "python"
    }
  },
  "cells": [
    {
      "cell_type": "markdown",
      "source": [
        "**NumPy is Numerical Python**\n",
        "\n",
        "*   NumPy is a Python library used for working with arrays.\n",
        "*   In Python we have lists that serve the purpose of arrays, but they are slow to process.\n",
        "*   NumPy aims to provide an array object that is up to 50x faster than traditional Python lists.\n",
        "*   The array object in NumPy is called ndarray, it provides a lot of supporting functions that make working with ndarray very easy.\n",
        "*   NumPy arrays are stored at one continuous place in memory unlike lists, so processes can access and manipulate them very efficiently. This behavior is called locality of reference in computer science.\n",
        "*   This is the main reason why NumPy is faster than lists. Also it is optimized to work with latest CPU architectures.\n",
        "*   NumPy is a Python library and is written partially in Python, but most of the parts that require fast computation are written in C or C++.\n",
        "\n"
      ],
      "metadata": {
        "id": "fGNxTcPN1giV"
      }
    },
    {
      "cell_type": "code",
      "execution_count": 1,
      "metadata": {
        "id": "VnMw35YT86iT",
        "colab": {
          "base_uri": "https://localhost:8080/",
          "height": 0
        },
        "outputId": "f6492e1b-e763-4c9b-e734-8678bc0ad462"
      },
      "outputs": [
        {
          "output_type": "stream",
          "name": "stdout",
          "text": [
            "Requirement already satisfied: numpy in /usr/local/lib/python3.10/dist-packages (1.25.2)\n"
          ]
        }
      ],
      "source": [
        "#to install numpy library\n",
        "\n",
        "!pip install numpy"
      ]
    },
    {
      "cell_type": "code",
      "source": [
        "import numpy as np"
      ],
      "metadata": {
        "id": "oHjAuiHi3W9n"
      },
      "execution_count": 2,
      "outputs": []
    },
    {
      "cell_type": "code",
      "source": [
        "a = [1,2,3,\"jameer\"]\n",
        "a"
      ],
      "metadata": {
        "colab": {
          "base_uri": "https://localhost:8080/",
          "height": 0
        },
        "id": "zzltPEkF3W_-",
        "outputId": "4ffb25e6-bcf4-4988-be49-d129f2f5cce6"
      },
      "execution_count": 3,
      "outputs": [
        {
          "output_type": "execute_result",
          "data": {
            "text/plain": [
              "[1, 2, 3, 'jameer']"
            ]
          },
          "metadata": {},
          "execution_count": 3
        }
      ]
    },
    {
      "cell_type": "code",
      "source": [
        "type(a)"
      ],
      "metadata": {
        "colab": {
          "base_uri": "https://localhost:8080/",
          "height": 0
        },
        "id": "VcV7OSAS3XCw",
        "outputId": "2ace5771-4965-413a-d975-10329f420e57"
      },
      "execution_count": 4,
      "outputs": [
        {
          "output_type": "execute_result",
          "data": {
            "text/plain": [
              "list"
            ]
          },
          "metadata": {},
          "execution_count": 4
        }
      ]
    },
    {
      "cell_type": "code",
      "source": [
        "b = np.array(a)\n",
        "b"
      ],
      "metadata": {
        "colab": {
          "base_uri": "https://localhost:8080/",
          "height": 0
        },
        "id": "Q5iU8rLC3XGQ",
        "outputId": "181dbd03-c0c8-4544-bb45-3dd2f91a6b57"
      },
      "execution_count": 5,
      "outputs": [
        {
          "output_type": "execute_result",
          "data": {
            "text/plain": [
              "array(['1', '2', '3', 'jameer'], dtype='<U21')"
            ]
          },
          "metadata": {},
          "execution_count": 5
        }
      ]
    },
    {
      "cell_type": "code",
      "source": [
        "np.__version__"
      ],
      "metadata": {
        "colab": {
          "base_uri": "https://localhost:8080/",
          "height": 36
        },
        "id": "j395H6dx3qEp",
        "outputId": "cf7fe98a-2221-42c2-d4b8-0178b6efed22"
      },
      "execution_count": 6,
      "outputs": [
        {
          "output_type": "execute_result",
          "data": {
            "text/plain": [
              "'1.25.2'"
            ],
            "application/vnd.google.colaboratory.intrinsic+json": {
              "type": "string"
            }
          },
          "metadata": {},
          "execution_count": 6
        }
      ]
    },
    {
      "cell_type": "code",
      "source": [
        "'''\n",
        "  NumPy is used to work with arrays. The array object in NumPy is called ndarray.\n",
        "  We can create a NumPy ndarray object by using the array() function.\n",
        "'''\n",
        "\n",
        "arr = np.array(a)\n",
        "arr"
      ],
      "metadata": {
        "colab": {
          "base_uri": "https://localhost:8080/",
          "height": 0
        },
        "id": "7yVM47wn33SY",
        "outputId": "36f86d4c-9eb3-44b9-ad23-018f757d6c26"
      },
      "execution_count": 7,
      "outputs": [
        {
          "output_type": "execute_result",
          "data": {
            "text/plain": [
              "array(['1', '2', '3', 'jameer'], dtype='<U21')"
            ]
          },
          "metadata": {},
          "execution_count": 7
        }
      ]
    },
    {
      "cell_type": "code",
      "source": [
        "arr.dtype"
      ],
      "metadata": {
        "colab": {
          "base_uri": "https://localhost:8080/",
          "height": 0
        },
        "id": "ILBAhhQ95u5P",
        "outputId": "dd06cb5b-98c0-4af7-9774-a7adde77069f"
      },
      "execution_count": 8,
      "outputs": [
        {
          "output_type": "execute_result",
          "data": {
            "text/plain": [
              "dtype('<U21')"
            ]
          },
          "metadata": {},
          "execution_count": 8
        }
      ]
    },
    {
      "cell_type": "code",
      "source": [
        "arr.ndim"
      ],
      "metadata": {
        "colab": {
          "base_uri": "https://localhost:8080/",
          "height": 0
        },
        "id": "7a3uSBvu6WKi",
        "outputId": "020eb76d-7861-4eb9-8b15-ec8be65a9a3c"
      },
      "execution_count": 9,
      "outputs": [
        {
          "output_type": "execute_result",
          "data": {
            "text/plain": [
              "1"
            ]
          },
          "metadata": {},
          "execution_count": 9
        }
      ]
    },
    {
      "cell_type": "code",
      "source": [
        "'''\n",
        "  An array that has 0-D arrays as its elements is called uni-dimensional or 1-D array.\n",
        "  These are the most common and basic arrays.\n",
        "'''\n",
        "\n",
        "arr1 = np.array([1,2,3,4,5,6,7,8,9,10])\n",
        "arr1"
      ],
      "metadata": {
        "colab": {
          "base_uri": "https://localhost:8080/",
          "height": 0
        },
        "id": "XgumvZLo4FF8",
        "outputId": "d956b147-4e6b-4aa8-e2c7-8726a16e9867"
      },
      "execution_count": 10,
      "outputs": [
        {
          "output_type": "execute_result",
          "data": {
            "text/plain": [
              "array([ 1,  2,  3,  4,  5,  6,  7,  8,  9, 10])"
            ]
          },
          "metadata": {},
          "execution_count": 10
        }
      ]
    },
    {
      "cell_type": "code",
      "source": [
        "arr1.ndim"
      ],
      "metadata": {
        "colab": {
          "base_uri": "https://localhost:8080/",
          "height": 0
        },
        "id": "z1bnLjpa6YKp",
        "outputId": "58161a1c-4c3d-4a21-bc06-d8b9d58dc12c"
      },
      "execution_count": 11,
      "outputs": [
        {
          "output_type": "execute_result",
          "data": {
            "text/plain": [
              "1"
            ]
          },
          "metadata": {},
          "execution_count": 11
        }
      ]
    },
    {
      "cell_type": "code",
      "source": [
        "'''\n",
        "  An array that has 1-D arrays as its elements is called a 2-D array.\n",
        "  These are often used to represent matrix or 2nd order tensors.\n",
        "'''\n",
        "\n",
        "arr2 = np.array([[1,2,3],[4,5,6]])\n",
        "arr2"
      ],
      "metadata": {
        "colab": {
          "base_uri": "https://localhost:8080/",
          "height": 0
        },
        "id": "ctKXvoij5Abb",
        "outputId": "c805f994-74ae-4026-dc5a-2a3a9f0d1bf3"
      },
      "execution_count": 12,
      "outputs": [
        {
          "output_type": "execute_result",
          "data": {
            "text/plain": [
              "array([[1, 2, 3],\n",
              "       [4, 5, 6]])"
            ]
          },
          "metadata": {},
          "execution_count": 12
        }
      ]
    },
    {
      "cell_type": "code",
      "source": [
        "arr2.ndim"
      ],
      "metadata": {
        "colab": {
          "base_uri": "https://localhost:8080/",
          "height": 0
        },
        "id": "COa-KQ5z6aHF",
        "outputId": "41548d02-d9ad-4a9c-d3f5-fbaffbd1790b"
      },
      "execution_count": 13,
      "outputs": [
        {
          "output_type": "execute_result",
          "data": {
            "text/plain": [
              "2"
            ]
          },
          "metadata": {},
          "execution_count": 13
        }
      ]
    },
    {
      "cell_type": "code",
      "source": [
        "'''\n",
        "  An array that has 2-D arrays (matrices) as its elements is called 3-D array.\n",
        "  These are often used to represent a 3rd order tensor.\n",
        "'''\n",
        "\n",
        "arr3 = np.array([[[1,2,3],[4,5,6]], [[7,8,9],[10,11,12]]])\n",
        "arr3"
      ],
      "metadata": {
        "colab": {
          "base_uri": "https://localhost:8080/",
          "height": 0
        },
        "id": "GbhsSkwf5MXh",
        "outputId": "8a40aa96-d09e-41f5-bb4d-cb8c41ebc1d8"
      },
      "execution_count": 14,
      "outputs": [
        {
          "output_type": "execute_result",
          "data": {
            "text/plain": [
              "array([[[ 1,  2,  3],\n",
              "        [ 4,  5,  6]],\n",
              "\n",
              "       [[ 7,  8,  9],\n",
              "        [10, 11, 12]]])"
            ]
          },
          "metadata": {},
          "execution_count": 14
        }
      ]
    },
    {
      "cell_type": "code",
      "source": [
        "arr3.ndim"
      ],
      "metadata": {
        "colab": {
          "base_uri": "https://localhost:8080/",
          "height": 0
        },
        "id": "Gh7SgtPX6bVO",
        "outputId": "a9bebe0d-cf45-4804-df86-d2c2ee1b2805"
      },
      "execution_count": 15,
      "outputs": [
        {
          "output_type": "execute_result",
          "data": {
            "text/plain": [
              "3"
            ]
          },
          "metadata": {},
          "execution_count": 15
        }
      ]
    },
    {
      "cell_type": "code",
      "source": [
        "arr3.dtype"
      ],
      "metadata": {
        "colab": {
          "base_uri": "https://localhost:8080/",
          "height": 0
        },
        "id": "nRRJxEn35hmP",
        "outputId": "81ff912f-d4a4-4022-ddd8-df1252cecd93"
      },
      "execution_count": 16,
      "outputs": [
        {
          "output_type": "execute_result",
          "data": {
            "text/plain": [
              "dtype('int64')"
            ]
          },
          "metadata": {},
          "execution_count": 16
        }
      ]
    },
    {
      "cell_type": "code",
      "source": [
        "arr4 = arr1 + arr1\n",
        "arr4"
      ],
      "metadata": {
        "colab": {
          "base_uri": "https://localhost:8080/",
          "height": 0
        },
        "id": "cyEAkw6y5pv0",
        "outputId": "7bae6371-f395-46e1-f920-53ffe96764ec"
      },
      "execution_count": 17,
      "outputs": [
        {
          "output_type": "execute_result",
          "data": {
            "text/plain": [
              "array([ 2,  4,  6,  8, 10, 12, 14, 16, 18, 20])"
            ]
          },
          "metadata": {},
          "execution_count": 17
        }
      ]
    },
    {
      "cell_type": "code",
      "source": [
        "arr[3]"
      ],
      "metadata": {
        "colab": {
          "base_uri": "https://localhost:8080/",
          "height": 36
        },
        "id": "IhAPhU9i7IET",
        "outputId": "c1affcd4-551a-460e-f402-d4af0cdfc732"
      },
      "execution_count": 18,
      "outputs": [
        {
          "output_type": "execute_result",
          "data": {
            "text/plain": [
              "'jameer'"
            ],
            "application/vnd.google.colaboratory.intrinsic+json": {
              "type": "string"
            }
          },
          "metadata": {},
          "execution_count": 18
        }
      ]
    },
    {
      "cell_type": "code",
      "source": [
        "'''\n",
        "  Array indexing is the same as accessing an array element.\n",
        "  You can access an array element by referring to its index number.\n",
        "  The indexes in NumPy arrays start with 0, meaning that the first element has index 0, and the second has index 1 etc.\n",
        "'''\n",
        "\n",
        "arr1[2]"
      ],
      "metadata": {
        "colab": {
          "base_uri": "https://localhost:8080/",
          "height": 0
        },
        "id": "IdPBy1CNZy37",
        "outputId": "dd281682-076f-498e-a638-dfb3014bb37a"
      },
      "execution_count": 19,
      "outputs": [
        {
          "output_type": "execute_result",
          "data": {
            "text/plain": [
              "3"
            ]
          },
          "metadata": {},
          "execution_count": 19
        }
      ]
    },
    {
      "cell_type": "code",
      "source": [
        "'''\n",
        "  To access elements from 2-D arrays, we can use comma separated integers representing the dimension and the index of the element.\n",
        "'''\n",
        "\n",
        "arr2[1,2]"
      ],
      "metadata": {
        "colab": {
          "base_uri": "https://localhost:8080/",
          "height": 0
        },
        "id": "K9I5cyShZz6H",
        "outputId": "d4cb4765-3d7f-4b3f-cc26-0548ac3fd33a"
      },
      "execution_count": 20,
      "outputs": [
        {
          "output_type": "execute_result",
          "data": {
            "text/plain": [
              "6"
            ]
          },
          "metadata": {},
          "execution_count": 20
        }
      ]
    },
    {
      "cell_type": "code",
      "source": [
        "arr3"
      ],
      "metadata": {
        "colab": {
          "base_uri": "https://localhost:8080/",
          "height": 0
        },
        "id": "J40KNXErZ17m",
        "outputId": "2aafb4bb-50d9-4add-85f2-705119eaf4fc"
      },
      "execution_count": 23,
      "outputs": [
        {
          "output_type": "execute_result",
          "data": {
            "text/plain": [
              "array([[[ 1,  2,  3],\n",
              "        [ 4,  5,  6]],\n",
              "\n",
              "       [[ 7,  8,  9],\n",
              "        [10, 11, 12]]])"
            ]
          },
          "metadata": {},
          "execution_count": 23
        }
      ]
    },
    {
      "cell_type": "code",
      "source": [
        "'''\n",
        "  To access elements from 3-D arrays we can use comma separated integers representing the dimensions and the index of the element.\n",
        "'''\n",
        "\n",
        "arr3[1,1,2]"
      ],
      "metadata": {
        "colab": {
          "base_uri": "https://localhost:8080/",
          "height": 0
        },
        "id": "KXG-vJHbZ4YL",
        "outputId": "46e5903e-a2ab-443f-b155-99c5528345c1"
      },
      "execution_count": 25,
      "outputs": [
        {
          "output_type": "execute_result",
          "data": {
            "text/plain": [
              "12"
            ]
          },
          "metadata": {},
          "execution_count": 25
        }
      ]
    },
    {
      "cell_type": "markdown",
      "source": [
        "**Accessing array elements through negative indexing**"
      ],
      "metadata": {
        "id": "VwTDKFLTazCb"
      }
    },
    {
      "cell_type": "code",
      "source": [
        "arr[-2]"
      ],
      "metadata": {
        "colab": {
          "base_uri": "https://localhost:8080/",
          "height": 36
        },
        "id": "NpyIp8iSaA9e",
        "outputId": "031fe8ca-87ff-4f84-de9f-dec6af3b66c6"
      },
      "execution_count": 26,
      "outputs": [
        {
          "output_type": "execute_result",
          "data": {
            "text/plain": [
              "'3'"
            ],
            "application/vnd.google.colaboratory.intrinsic+json": {
              "type": "string"
            }
          },
          "metadata": {},
          "execution_count": 26
        }
      ]
    },
    {
      "cell_type": "code",
      "source": [
        "arr1[-3]"
      ],
      "metadata": {
        "colab": {
          "base_uri": "https://localhost:8080/",
          "height": 0
        },
        "id": "_5EkVOvMajZY",
        "outputId": "4ae4dc9e-d6fc-4efa-c469-3713b5160fdd"
      },
      "execution_count": 27,
      "outputs": [
        {
          "output_type": "execute_result",
          "data": {
            "text/plain": [
              "8"
            ]
          },
          "metadata": {},
          "execution_count": 27
        }
      ]
    },
    {
      "cell_type": "code",
      "source": [
        "arr2[-1,2]"
      ],
      "metadata": {
        "colab": {
          "base_uri": "https://localhost:8080/",
          "height": 0
        },
        "id": "kY7vuWVKal0I",
        "outputId": "b607f301-faba-4fe6-e51d-ef2e5edf413c"
      },
      "execution_count": 28,
      "outputs": [
        {
          "output_type": "execute_result",
          "data": {
            "text/plain": [
              "6"
            ]
          },
          "metadata": {},
          "execution_count": 28
        }
      ]
    },
    {
      "cell_type": "code",
      "source": [
        "arr3[-2,-1,2]"
      ],
      "metadata": {
        "colab": {
          "base_uri": "https://localhost:8080/",
          "height": 0
        },
        "id": "wVeYwhbNaqG9",
        "outputId": "96c74b3a-722e-4fd5-f7e9-34ccbd75301f"
      },
      "execution_count": 30,
      "outputs": [
        {
          "output_type": "execute_result",
          "data": {
            "text/plain": [
              "6"
            ]
          },
          "metadata": {},
          "execution_count": 30
        }
      ]
    },
    {
      "cell_type": "code",
      "source": [
        "arr2[1:2:2]"
      ],
      "metadata": {
        "colab": {
          "base_uri": "https://localhost:8080/",
          "height": 0
        },
        "id": "_Xm6khpfaufL",
        "outputId": "5239331d-ff57-4b9d-df15-9e39ec96c002"
      },
      "execution_count": 31,
      "outputs": [
        {
          "output_type": "execute_result",
          "data": {
            "text/plain": [
              "array([[4, 5, 6]])"
            ]
          },
          "metadata": {},
          "execution_count": 31
        }
      ]
    },
    {
      "cell_type": "markdown",
      "source": [
        "By default Python have these data types:\n",
        "*   strings - used to represent text data, the text is given under quote marks. e.g. \"ABCD\"\n",
        "*   integer - used to represent integer numbers. e.g. -1, -2, -3\n",
        "*   float - used to represent real numbers. e.g. 1.2, 42.42\n",
        "*   boolean - used to represent True or False.\n",
        "*   complex - used to represent complex numbers. e.g. 1.0 + 2.0j, 1.5 + 2.5j\n",
        "\n",
        "**Data Types in NumPy**\n",
        "\n",
        "NumPy has some extra data types, and refer to data types with one character, like i for integers, u for unsigned integers etc.\n",
        "Below is a list of all data types in NumPy and the characters used to represent them.\n",
        "\n",
        "    i - integer\n",
        "    b - boolean\n",
        "    u - unsigned integer\n",
        "    f - float\n",
        "    c - complex float\n",
        "    m - timedelta\n",
        "    M - datetime\n",
        "    O - object\n",
        "    S - string\n",
        "    U - unicode string\n",
        "    V - fixed chunk of memory for other type ( void )\n"
      ],
      "metadata": {
        "id": "DJbb8uMcbpBT"
      }
    },
    {
      "cell_type": "code",
      "source": [
        "#converting data type from one to another\n",
        "print(arr1)\n",
        "print(arr1.dtype)\n",
        "arr4 = arr1.astype('f')\n",
        "print(arr4)\n",
        "print(arr4.dtype)"
      ],
      "metadata": {
        "colab": {
          "base_uri": "https://localhost:8080/",
          "height": 0
        },
        "id": "lHD0aLsQbUvJ",
        "outputId": "38423d49-7d10-4479-d923-f2ae5ae31f01"
      },
      "execution_count": 40,
      "outputs": [
        {
          "output_type": "stream",
          "name": "stdout",
          "text": [
            "[ 1  2  3  4  5  6  7  8  9 10]\n",
            "int64\n",
            "[ 1.  2.  3.  4.  5.  6.  7.  8.  9. 10.]\n",
            "float32\n"
          ]
        }
      ]
    },
    {
      "cell_type": "code",
      "source": [
        "#defining datatype at array creation\n",
        "arr5 = np.array([0,1,2,0,1,3], dtype='f')\n",
        "arr5"
      ],
      "metadata": {
        "colab": {
          "base_uri": "https://localhost:8080/",
          "height": 0
        },
        "id": "XAvEulNYbeRJ",
        "outputId": "f66a4a50-2f18-4d8f-bfee-d5ac762b1bb0"
      },
      "execution_count": 43,
      "outputs": [
        {
          "output_type": "execute_result",
          "data": {
            "text/plain": [
              "array([0., 1., 2., 0., 1., 3.], dtype=float32)"
            ]
          },
          "metadata": {},
          "execution_count": 43
        }
      ]
    },
    {
      "cell_type": "markdown",
      "source": [
        "**Copy vs View**\n",
        "\n",
        "The main difference between a copy and a view of an array is that the copy is a new array, and the view is just a view of the original array.\n",
        "\n",
        "The copy owns the data and any changes made to the copy will not affect original array, and any changes made to the original array will not affect the copy.\n",
        "\n",
        "The view does not own the data and any changes made to the view will affect the original array, and any changes made to the original array will affect the view."
      ],
      "metadata": {
        "id": "XN4HYsb3dXJQ"
      }
    },
    {
      "cell_type": "code",
      "source": [
        "print(arr2)"
      ],
      "metadata": {
        "colab": {
          "base_uri": "https://localhost:8080/",
          "height": 0
        },
        "id": "PprwWXOEc5sV",
        "outputId": "50ae94d7-6c81-477d-f3c7-e91bbe9e1ef8"
      },
      "execution_count": 46,
      "outputs": [
        {
          "output_type": "stream",
          "name": "stdout",
          "text": [
            "[[1 2 3]\n",
            " [4 5 6]]\n"
          ]
        }
      ]
    },
    {
      "cell_type": "code",
      "source": [
        "arr6 = arr2.copy()\n",
        "print(arr6)"
      ],
      "metadata": {
        "colab": {
          "base_uri": "https://localhost:8080/",
          "height": 0
        },
        "id": "cvn1LG8id0Pf",
        "outputId": "e33b540e-6346-4b4e-823f-cf05e61f9ee4"
      },
      "execution_count": 47,
      "outputs": [
        {
          "output_type": "stream",
          "name": "stdout",
          "text": [
            "[[1 2 3]\n",
            " [4 5 6]]\n"
          ]
        }
      ]
    },
    {
      "cell_type": "code",
      "source": [
        "arr6[0,2] = 5\n",
        "arr6"
      ],
      "metadata": {
        "colab": {
          "base_uri": "https://localhost:8080/",
          "height": 0
        },
        "id": "7tdyGNbed-yp",
        "outputId": "f6c82635-fbd9-42ab-85ba-1763af1d7db8"
      },
      "execution_count": 48,
      "outputs": [
        {
          "output_type": "execute_result",
          "data": {
            "text/plain": [
              "array([[1, 2, 5],\n",
              "       [4, 5, 6]])"
            ]
          },
          "metadata": {},
          "execution_count": 48
        }
      ]
    },
    {
      "cell_type": "code",
      "source": [
        "arr2"
      ],
      "metadata": {
        "colab": {
          "base_uri": "https://localhost:8080/",
          "height": 0
        },
        "id": "PDmBdFZZeDMN",
        "outputId": "35c57bce-149c-4363-d6b8-cfcac8fd35a7"
      },
      "execution_count": 49,
      "outputs": [
        {
          "output_type": "execute_result",
          "data": {
            "text/plain": [
              "array([[1, 2, 3],\n",
              "       [4, 5, 6]])"
            ]
          },
          "metadata": {},
          "execution_count": 49
        }
      ]
    },
    {
      "cell_type": "code",
      "source": [
        "arr7 = arr2.view()\n",
        "arr7"
      ],
      "metadata": {
        "colab": {
          "base_uri": "https://localhost:8080/",
          "height": 0
        },
        "id": "vl4WsMhueEIP",
        "outputId": "52239fc2-5896-43ae-923a-2ce563a3b44d"
      },
      "execution_count": 50,
      "outputs": [
        {
          "output_type": "execute_result",
          "data": {
            "text/plain": [
              "array([[1, 2, 3],\n",
              "       [4, 5, 6]])"
            ]
          },
          "metadata": {},
          "execution_count": 50
        }
      ]
    },
    {
      "cell_type": "code",
      "source": [
        "arr7[0,2] = 5\n",
        "arr7"
      ],
      "metadata": {
        "colab": {
          "base_uri": "https://localhost:8080/",
          "height": 0
        },
        "id": "dO-kBlPNeKTH",
        "outputId": "1371d5d0-adb6-4c0a-8be3-87f383ca4400"
      },
      "execution_count": 51,
      "outputs": [
        {
          "output_type": "execute_result",
          "data": {
            "text/plain": [
              "array([[1, 2, 5],\n",
              "       [4, 5, 6]])"
            ]
          },
          "metadata": {},
          "execution_count": 51
        }
      ]
    },
    {
      "cell_type": "code",
      "source": [
        "arr2"
      ],
      "metadata": {
        "colab": {
          "base_uri": "https://localhost:8080/",
          "height": 0
        },
        "id": "mA4doFE8eRI3",
        "outputId": "5d4d0839-40e7-4330-cec4-bd549f261aa8"
      },
      "execution_count": 52,
      "outputs": [
        {
          "output_type": "execute_result",
          "data": {
            "text/plain": [
              "array([[1, 2, 5],\n",
              "       [4, 5, 6]])"
            ]
          },
          "metadata": {},
          "execution_count": 52
        }
      ]
    },
    {
      "cell_type": "code",
      "source": [
        "'''\n",
        "  Every NumPy array has the attribute base that returns None if the array owns the data.\n",
        "  Otherwise, the base  attribute refers to the original object.\n",
        "\n",
        "  The copy returns None.\n",
        "  The view returns the original array.\n",
        "'''\n",
        "print(arr6.base)"
      ],
      "metadata": {
        "colab": {
          "base_uri": "https://localhost:8080/",
          "height": 0
        },
        "id": "CtcpltmYeTZ-",
        "outputId": "a936a2a6-ba6c-4ee8-cca3-59546a784f67"
      },
      "execution_count": 55,
      "outputs": [
        {
          "output_type": "stream",
          "name": "stdout",
          "text": [
            "None\n"
          ]
        }
      ]
    },
    {
      "cell_type": "code",
      "source": [
        "arr7.base"
      ],
      "metadata": {
        "colab": {
          "base_uri": "https://localhost:8080/",
          "height": 0
        },
        "id": "uSZuu_7HexP-",
        "outputId": "d18cb008-a968-4509-b57f-bb79c62d64f2"
      },
      "execution_count": 56,
      "outputs": [
        {
          "output_type": "execute_result",
          "data": {
            "text/plain": [
              "array([[1, 2, 5],\n",
              "       [4, 5, 6]])"
            ]
          },
          "metadata": {},
          "execution_count": 56
        }
      ]
    },
    {
      "cell_type": "code",
      "source": [
        "#The shape of an array is the number of elements in each dimension.\n",
        "#NumPy arrays have an attribute called shape that returns a tuple with each index having the number of corresponding elements.\n",
        "\n",
        "print(arr1.shape)\n",
        "print(arr2.shape)\n",
        "print(arr3.shape)\n",
        "print(arr4.shape)"
      ],
      "metadata": {
        "colab": {
          "base_uri": "https://localhost:8080/",
          "height": 0
        },
        "id": "XDRrvXR8e3JS",
        "outputId": "0ebc5ac1-e8fe-498e-db5a-14a40081a81f"
      },
      "execution_count": 58,
      "outputs": [
        {
          "output_type": "stream",
          "name": "stdout",
          "text": [
            "(10,)\n",
            "(2, 3)\n",
            "(2, 2, 3)\n",
            "(10,)\n"
          ]
        }
      ]
    },
    {
      "cell_type": "code",
      "source": [
        "'''\n",
        "  Reshaping arrays\n",
        "  Reshaping means changing the shape of an array.\n",
        "  The shape of an array is the number of elements in each dimension.\n",
        "  By reshaping we can add or remove dimensions or change number of elements in each dimension.\n",
        "'''\n",
        "\n",
        "arr1.reshape(5,2)"
      ],
      "metadata": {
        "colab": {
          "base_uri": "https://localhost:8080/",
          "height": 0
        },
        "id": "CXoedbemfUIk",
        "outputId": "78a83992-0f50-4946-a3eb-253f7606346d"
      },
      "execution_count": 61,
      "outputs": [
        {
          "output_type": "execute_result",
          "data": {
            "text/plain": [
              "array([[ 1,  2],\n",
              "       [ 3,  4],\n",
              "       [ 5,  6],\n",
              "       [ 7,  8],\n",
              "       [ 9, 10]])"
            ]
          },
          "metadata": {},
          "execution_count": 61
        }
      ]
    },
    {
      "cell_type": "code",
      "source": [
        "arr2"
      ],
      "metadata": {
        "colab": {
          "base_uri": "https://localhost:8080/",
          "height": 0
        },
        "id": "Mak52X0AfwJn",
        "outputId": "98116d41-1fd6-40d0-a84b-11c0eb4563cf"
      },
      "execution_count": 65,
      "outputs": [
        {
          "output_type": "execute_result",
          "data": {
            "text/plain": [
              "array([[1, 2, 5],\n",
              "       [4, 5, 6]])"
            ]
          },
          "metadata": {},
          "execution_count": 65
        }
      ]
    },
    {
      "cell_type": "code",
      "source": [
        "arr2.reshape(2,3,1)"
      ],
      "metadata": {
        "colab": {
          "base_uri": "https://localhost:8080/",
          "height": 0
        },
        "id": "GTvqGgYTgCZ7",
        "outputId": "d4650aac-0b04-4b12-b0bb-05766b18d912"
      },
      "execution_count": 70,
      "outputs": [
        {
          "output_type": "execute_result",
          "data": {
            "text/plain": [
              "array([[[1],\n",
              "        [2],\n",
              "        [5]],\n",
              "\n",
              "       [[4],\n",
              "        [5],\n",
              "        [6]]])"
            ]
          },
          "metadata": {},
          "execution_count": 70
        }
      ]
    },
    {
      "cell_type": "code",
      "source": [
        "'''\n",
        "  Flattening the arrays\n",
        "  Flattening array means converting a multidimensional array into a 1D array.\n",
        "  We can use reshape(-1) to do this.\n",
        "'''\n",
        "\n",
        "arr3 = arr3.reshape(-1)\n",
        "arr3"
      ],
      "metadata": {
        "colab": {
          "base_uri": "https://localhost:8080/",
          "height": 0
        },
        "id": "f0GzL84yga6O",
        "outputId": "9b719cc7-1a5f-4652-83c9-543c2215c2e3"
      },
      "execution_count": 71,
      "outputs": [
        {
          "output_type": "execute_result",
          "data": {
            "text/plain": [
              "array([ 1,  2,  3,  4,  5,  6,  7,  8,  9, 10, 11, 12])"
            ]
          },
          "metadata": {},
          "execution_count": 71
        }
      ]
    },
    {
      "cell_type": "code",
      "source": [
        "arr3.shape"
      ],
      "metadata": {
        "colab": {
          "base_uri": "https://localhost:8080/",
          "height": 0
        },
        "id": "hpVxMVPfg2p6",
        "outputId": "4ee64e9f-1c51-44ae-f617-68c825b13f79"
      },
      "execution_count": 73,
      "outputs": [
        {
          "output_type": "execute_result",
          "data": {
            "text/plain": [
              "(12,)"
            ]
          },
          "metadata": {},
          "execution_count": 73
        }
      ]
    },
    {
      "cell_type": "code",
      "source": [
        "arr3.ndim"
      ],
      "metadata": {
        "colab": {
          "base_uri": "https://localhost:8080/",
          "height": 0
        },
        "id": "XvJVk1jRg33j",
        "outputId": "95ee147d-0b4b-4914-fcd4-fc7c39e4ba9c"
      },
      "execution_count": 74,
      "outputs": [
        {
          "output_type": "execute_result",
          "data": {
            "text/plain": [
              "1"
            ]
          },
          "metadata": {},
          "execution_count": 74
        }
      ]
    },
    {
      "cell_type": "code",
      "source": [
        "#Numpy.zeros() – returns an array of given shape and type filled with zeroes.\n",
        "\n",
        "arr8 = np.zeros(10)\n",
        "arr8"
      ],
      "metadata": {
        "colab": {
          "base_uri": "https://localhost:8080/",
          "height": 0
        },
        "id": "lFb0KCp-g8XT",
        "outputId": "cb50275b-3432-4e0b-d235-acc33f3daf45"
      },
      "execution_count": 77,
      "outputs": [
        {
          "output_type": "execute_result",
          "data": {
            "text/plain": [
              "array([0., 0., 0., 0., 0., 0., 0., 0., 0., 0.])"
            ]
          },
          "metadata": {},
          "execution_count": 77
        }
      ]
    },
    {
      "cell_type": "code",
      "source": [
        "arr9 = np.zeros((4,5))\n",
        "arr9"
      ],
      "metadata": {
        "colab": {
          "base_uri": "https://localhost:8080/",
          "height": 0
        },
        "id": "XFSir4iPhev7",
        "outputId": "6d08496c-fa9d-4e5b-ff5d-8be80ff9b09a"
      },
      "execution_count": 79,
      "outputs": [
        {
          "output_type": "execute_result",
          "data": {
            "text/plain": [
              "array([[0., 0., 0., 0., 0.],\n",
              "       [0., 0., 0., 0., 0.],\n",
              "       [0., 0., 0., 0., 0.],\n",
              "       [0., 0., 0., 0., 0.]])"
            ]
          },
          "metadata": {},
          "execution_count": 79
        }
      ]
    },
    {
      "cell_type": "code",
      "source": [
        "arr10 = np.zeros((3,4,5))\n",
        "arr10"
      ],
      "metadata": {
        "colab": {
          "base_uri": "https://localhost:8080/",
          "height": 0
        },
        "id": "Hz8NiYUTh2u_",
        "outputId": "caaff4a2-504f-4963-8d95-2b9f5a6fe3da"
      },
      "execution_count": 81,
      "outputs": [
        {
          "output_type": "execute_result",
          "data": {
            "text/plain": [
              "array([[[0., 0., 0., 0., 0.],\n",
              "        [0., 0., 0., 0., 0.],\n",
              "        [0., 0., 0., 0., 0.],\n",
              "        [0., 0., 0., 0., 0.]],\n",
              "\n",
              "       [[0., 0., 0., 0., 0.],\n",
              "        [0., 0., 0., 0., 0.],\n",
              "        [0., 0., 0., 0., 0.],\n",
              "        [0., 0., 0., 0., 0.]],\n",
              "\n",
              "       [[0., 0., 0., 0., 0.],\n",
              "        [0., 0., 0., 0., 0.],\n",
              "        [0., 0., 0., 0., 0.],\n",
              "        [0., 0., 0., 0., 0.]]])"
            ]
          },
          "metadata": {},
          "execution_count": 81
        }
      ]
    },
    {
      "cell_type": "code",
      "source": [
        "arr10.shape"
      ],
      "metadata": {
        "colab": {
          "base_uri": "https://localhost:8080/",
          "height": 0
        },
        "id": "cV9qYlrFiE6R",
        "outputId": "162752ae-d10d-464f-db28-f9de5ab4aae8"
      },
      "execution_count": 82,
      "outputs": [
        {
          "output_type": "execute_result",
          "data": {
            "text/plain": [
              "(3, 4, 5)"
            ]
          },
          "metadata": {},
          "execution_count": 82
        }
      ]
    },
    {
      "cell_type": "code",
      "source": [
        "arr10.ndim"
      ],
      "metadata": {
        "colab": {
          "base_uri": "https://localhost:8080/",
          "height": 0
        },
        "id": "E9Fbnz-diJjE",
        "outputId": "cb3f39b8-5b64-4b41-b180-c17caf760a0b"
      },
      "execution_count": 83,
      "outputs": [
        {
          "output_type": "execute_result",
          "data": {
            "text/plain": [
              "3"
            ]
          },
          "metadata": {},
          "execution_count": 83
        }
      ]
    },
    {
      "cell_type": "code",
      "source": [
        "arr10.dtype"
      ],
      "metadata": {
        "colab": {
          "base_uri": "https://localhost:8080/",
          "height": 0
        },
        "id": "1D4iyohBiK5L",
        "outputId": "57416224-442e-45d0-ffe1-732e989a1e16"
      },
      "execution_count": 84,
      "outputs": [
        {
          "output_type": "execute_result",
          "data": {
            "text/plain": [
              "dtype('float64')"
            ]
          },
          "metadata": {},
          "execution_count": 84
        }
      ]
    },
    {
      "cell_type": "code",
      "source": [
        "arr11 = np.zeros((3,2,3), dtype='i')\n",
        "arr11"
      ],
      "metadata": {
        "colab": {
          "base_uri": "https://localhost:8080/",
          "height": 0
        },
        "id": "9u6XlE7eiMUA",
        "outputId": "0c249f73-d642-4743-fa5d-f3edaf62f02d"
      },
      "execution_count": 85,
      "outputs": [
        {
          "output_type": "execute_result",
          "data": {
            "text/plain": [
              "array([[[0, 0, 0],\n",
              "        [0, 0, 0]],\n",
              "\n",
              "       [[0, 0, 0],\n",
              "        [0, 0, 0]],\n",
              "\n",
              "       [[0, 0, 0],\n",
              "        [0, 0, 0]]], dtype=int32)"
            ]
          },
          "metadata": {},
          "execution_count": 85
        }
      ]
    },
    {
      "cell_type": "code",
      "source": [
        "#Numpy.ones()- returns an array  of given shape and type filled with ones.\n",
        "\n",
        "arr12 = np.ones(5)\n",
        "arr12"
      ],
      "metadata": {
        "colab": {
          "base_uri": "https://localhost:8080/",
          "height": 0
        },
        "id": "unVk4U22mrGJ",
        "outputId": "d654cbe7-50e1-4fe7-c08d-bedce7d840d5"
      },
      "execution_count": 86,
      "outputs": [
        {
          "output_type": "execute_result",
          "data": {
            "text/plain": [
              "array([1., 1., 1., 1., 1.])"
            ]
          },
          "metadata": {},
          "execution_count": 86
        }
      ]
    },
    {
      "cell_type": "code",
      "source": [
        "arr13 = np.ones((2,3), dtype='U')\n",
        "arr13"
      ],
      "metadata": {
        "colab": {
          "base_uri": "https://localhost:8080/",
          "height": 0
        },
        "id": "jKqLjzscm5Oi",
        "outputId": "e01623fe-9fc8-43a2-ae44-d8a9dba78e2e"
      },
      "execution_count": 88,
      "outputs": [
        {
          "output_type": "execute_result",
          "data": {
            "text/plain": [
              "array([['1', '1', '1'],\n",
              "       ['1', '1', '1']], dtype='<U1')"
            ]
          },
          "metadata": {},
          "execution_count": 88
        }
      ]
    },
    {
      "cell_type": "code",
      "source": [
        "arr13.dtype"
      ],
      "metadata": {
        "colab": {
          "base_uri": "https://localhost:8080/",
          "height": 0
        },
        "id": "6gYJO21Cm_ZX",
        "outputId": "5c7d6af8-160c-4ffd-cdc4-b148c3a3b94b"
      },
      "execution_count": 90,
      "outputs": [
        {
          "output_type": "execute_result",
          "data": {
            "text/plain": [
              "dtype('<U1')"
            ]
          },
          "metadata": {},
          "execution_count": 90
        }
      ]
    },
    {
      "cell_type": "code",
      "source": [
        "arr13.ndim"
      ],
      "metadata": {
        "colab": {
          "base_uri": "https://localhost:8080/",
          "height": 0
        },
        "id": "dkNSQRJWnbe5",
        "outputId": "99046a53-b594-41f9-fa95-d3e423a7f051"
      },
      "execution_count": 91,
      "outputs": [
        {
          "output_type": "execute_result",
          "data": {
            "text/plain": [
              "2"
            ]
          },
          "metadata": {},
          "execution_count": 91
        }
      ]
    },
    {
      "cell_type": "code",
      "source": [
        "arr13.shape"
      ],
      "metadata": {
        "colab": {
          "base_uri": "https://localhost:8080/",
          "height": 0
        },
        "id": "5XHdtgxKneYU",
        "outputId": "7b21678c-8e08-49b3-be9e-0b0ca4652b7d"
      },
      "execution_count": 92,
      "outputs": [
        {
          "output_type": "execute_result",
          "data": {
            "text/plain": [
              "(2, 3)"
            ]
          },
          "metadata": {},
          "execution_count": 92
        }
      ]
    },
    {
      "cell_type": "code",
      "source": [
        "arr14 = np.ones((4,3,2), dtype='i')\n",
        "arr14"
      ],
      "metadata": {
        "colab": {
          "base_uri": "https://localhost:8080/",
          "height": 0
        },
        "id": "MYgCl6hrng3I",
        "outputId": "72ac5e23-8ff7-4841-9b92-0d5356016f13"
      },
      "execution_count": 93,
      "outputs": [
        {
          "output_type": "execute_result",
          "data": {
            "text/plain": [
              "array([[[1, 1],\n",
              "        [1, 1],\n",
              "        [1, 1]],\n",
              "\n",
              "       [[1, 1],\n",
              "        [1, 1],\n",
              "        [1, 1]],\n",
              "\n",
              "       [[1, 1],\n",
              "        [1, 1],\n",
              "        [1, 1]],\n",
              "\n",
              "       [[1, 1],\n",
              "        [1, 1],\n",
              "        [1, 1]]], dtype=int32)"
            ]
          },
          "metadata": {},
          "execution_count": 93
        }
      ]
    },
    {
      "cell_type": "code",
      "source": [
        "arr14.ndim"
      ],
      "metadata": {
        "colab": {
          "base_uri": "https://localhost:8080/",
          "height": 0
        },
        "id": "o3LrYEwdnsHy",
        "outputId": "510c4008-6fb4-4295-d426-51e716b497c8"
      },
      "execution_count": 94,
      "outputs": [
        {
          "output_type": "execute_result",
          "data": {
            "text/plain": [
              "3"
            ]
          },
          "metadata": {},
          "execution_count": 94
        }
      ]
    },
    {
      "cell_type": "code",
      "source": [
        "arr14.dtype"
      ],
      "metadata": {
        "colab": {
          "base_uri": "https://localhost:8080/",
          "height": 0
        },
        "id": "TzevrwzNoFK2",
        "outputId": "6655bf70-e8d3-4172-ed9d-b2a1eee3b4de"
      },
      "execution_count": 95,
      "outputs": [
        {
          "output_type": "execute_result",
          "data": {
            "text/plain": [
              "dtype('int32')"
            ]
          },
          "metadata": {},
          "execution_count": 95
        }
      ]
    },
    {
      "cell_type": "code",
      "source": [
        "arr14.shape"
      ],
      "metadata": {
        "colab": {
          "base_uri": "https://localhost:8080/",
          "height": 0
        },
        "id": "Y3B85GOgoGGw",
        "outputId": "56c22814-8802-44a4-b529-acc97fe5ae29"
      },
      "execution_count": 96,
      "outputs": [
        {
          "output_type": "execute_result",
          "data": {
            "text/plain": [
              "(4, 3, 2)"
            ]
          },
          "metadata": {},
          "execution_count": 96
        }
      ]
    },
    {
      "cell_type": "code",
      "source": [
        "#Numpy.linspace()- returns equally spaced numbers within the given range based on the sample number.\n",
        "\n",
        "arr15 = np.linspace(1,10,15)\n",
        "arr15"
      ],
      "metadata": {
        "colab": {
          "base_uri": "https://localhost:8080/",
          "height": 0
        },
        "id": "OEAdJzb0oHeg",
        "outputId": "5a72af40-f2ec-43c4-a3d8-7ff4cf154e61"
      },
      "execution_count": 97,
      "outputs": [
        {
          "output_type": "execute_result",
          "data": {
            "text/plain": [
              "array([ 1.        ,  1.64285714,  2.28571429,  2.92857143,  3.57142857,\n",
              "        4.21428571,  4.85714286,  5.5       ,  6.14285714,  6.78571429,\n",
              "        7.42857143,  8.07142857,  8.71428571,  9.35714286, 10.        ])"
            ]
          },
          "metadata": {},
          "execution_count": 97
        }
      ]
    },
    {
      "cell_type": "code",
      "source": [
        "arr16 = np.linspace(2,12,16,retstep = True)\n",
        "arr16"
      ],
      "metadata": {
        "colab": {
          "base_uri": "https://localhost:8080/",
          "height": 0
        },
        "id": "EyTWNOF2o7y_",
        "outputId": "b42ef126-efcb-45df-9470-22a2474fad27"
      },
      "execution_count": 98,
      "outputs": [
        {
          "output_type": "execute_result",
          "data": {
            "text/plain": [
              "(array([ 2.        ,  2.66666667,  3.33333333,  4.        ,  4.66666667,\n",
              "         5.33333333,  6.        ,  6.66666667,  7.33333333,  8.        ,\n",
              "         8.66666667,  9.33333333, 10.        , 10.66666667, 11.33333333,\n",
              "        12.        ]),\n",
              " 0.6666666666666666)"
            ]
          },
          "metadata": {},
          "execution_count": 98
        }
      ]
    },
    {
      "cell_type": "code",
      "source": [
        "arr17 = np.linspace(2,12,16,retstep = False)\n",
        "arr17"
      ],
      "metadata": {
        "colab": {
          "base_uri": "https://localhost:8080/",
          "height": 0
        },
        "id": "_AmZlAEPpF1o",
        "outputId": "0da04ae3-8055-45b6-c598-ddee29bf5270"
      },
      "execution_count": 99,
      "outputs": [
        {
          "output_type": "execute_result",
          "data": {
            "text/plain": [
              "array([ 2.        ,  2.66666667,  3.33333333,  4.        ,  4.66666667,\n",
              "        5.33333333,  6.        ,  6.66666667,  7.33333333,  8.        ,\n",
              "        8.66666667,  9.33333333, 10.        , 10.66666667, 11.33333333,\n",
              "       12.        ])"
            ]
          },
          "metadata": {},
          "execution_count": 99
        }
      ]
    },
    {
      "cell_type": "code",
      "source": [
        "arr18 = np.linspace(2,12,16,endpoint = False,retstep = True)\n",
        "arr18"
      ],
      "metadata": {
        "colab": {
          "base_uri": "https://localhost:8080/",
          "height": 0
        },
        "id": "6QiWAyGZpLv1",
        "outputId": "2efb55e3-28e1-4342-b2a4-17de59ee0663"
      },
      "execution_count": 101,
      "outputs": [
        {
          "output_type": "execute_result",
          "data": {
            "text/plain": [
              "(array([ 2.   ,  2.625,  3.25 ,  3.875,  4.5  ,  5.125,  5.75 ,  6.375,\n",
              "         7.   ,  7.625,  8.25 ,  8.875,  9.5  , 10.125, 10.75 , 11.375]),\n",
              " 0.625)"
            ]
          },
          "metadata": {},
          "execution_count": 101
        }
      ]
    },
    {
      "cell_type": "code",
      "source": [
        "type(arr18)"
      ],
      "metadata": {
        "colab": {
          "base_uri": "https://localhost:8080/",
          "height": 0
        },
        "id": "FxP59bvNvNTP",
        "outputId": "667687e8-dda8-4ed7-adaa-eaf4a9c2212b"
      },
      "execution_count": 119,
      "outputs": [
        {
          "output_type": "execute_result",
          "data": {
            "text/plain": [
              "tuple"
            ]
          },
          "metadata": {},
          "execution_count": 119
        }
      ]
    },
    {
      "cell_type": "code",
      "source": [
        "arr19 = np.linspace(2,12,16,endpoint = False,retstep = False).reshape((4,4))\n",
        "arr19"
      ],
      "metadata": {
        "colab": {
          "base_uri": "https://localhost:8080/",
          "height": 0
        },
        "id": "yEm1kNripf8n",
        "outputId": "d1537e9e-7f65-4622-d6ee-cf39bd8bdc2b"
      },
      "execution_count": 118,
      "outputs": [
        {
          "output_type": "execute_result",
          "data": {
            "text/plain": [
              "array([[ 2.   ,  2.625,  3.25 ,  3.875],\n",
              "       [ 4.5  ,  5.125,  5.75 ,  6.375],\n",
              "       [ 7.   ,  7.625,  8.25 ,  8.875],\n",
              "       [ 9.5  , 10.125, 10.75 , 11.375]])"
            ]
          },
          "metadata": {},
          "execution_count": 118
        }
      ]
    },
    {
      "cell_type": "code",
      "source": [
        "type(arr19)"
      ],
      "metadata": {
        "colab": {
          "base_uri": "https://localhost:8080/",
          "height": 0
        },
        "id": "YG_xypP8pnrn",
        "outputId": "742a2e8a-9764-439b-e0b6-9b1f51cdc63a"
      },
      "execution_count": 120,
      "outputs": [
        {
          "output_type": "execute_result",
          "data": {
            "text/plain": [
              "numpy.ndarray"
            ]
          },
          "metadata": {},
          "execution_count": 120
        }
      ]
    },
    {
      "cell_type": "code",
      "source": [
        "#Numpy.arange()- returns equally spaced numbers with in the given range based on step size.\n",
        "\n",
        "arr20 = np.arange(0,15,2)\n",
        "arr20"
      ],
      "metadata": {
        "colab": {
          "base_uri": "https://localhost:8080/",
          "height": 0
        },
        "id": "-BXby0HPu-CO",
        "outputId": "90c4689c-1302-4dd4-8504-b2131795f2e3"
      },
      "execution_count": 122,
      "outputs": [
        {
          "output_type": "execute_result",
          "data": {
            "text/plain": [
              "array([ 0,  2,  4,  6,  8, 10, 12, 14])"
            ]
          },
          "metadata": {},
          "execution_count": 122
        }
      ]
    },
    {
      "cell_type": "code",
      "source": [
        "#Numpy.random.rand()- returns an array of given shape filled with random values.\n",
        "\n",
        "arr21 = np.random.rand(3,2)\n",
        "arr21"
      ],
      "metadata": {
        "colab": {
          "base_uri": "https://localhost:8080/",
          "height": 0
        },
        "id": "jVf9W-Bevyuk",
        "outputId": "2a3ebc16-22ec-4255-c8a8-9d14d1ef4070"
      },
      "execution_count": 124,
      "outputs": [
        {
          "output_type": "execute_result",
          "data": {
            "text/plain": [
              "array([[0.8843601 , 0.65093257],\n",
              "       [0.27064088, 0.64335749],\n",
              "       [0.09239051, 0.36464532]])"
            ]
          },
          "metadata": {},
          "execution_count": 124
        }
      ]
    },
    {
      "cell_type": "code",
      "source": [
        "arr22 = np.random.rand(3,2,2)\n",
        "arr22"
      ],
      "metadata": {
        "id": "uPjf9rKowkBZ",
        "outputId": "5d616357-887a-40b4-9aeb-7929a8273728",
        "colab": {
          "base_uri": "https://localhost:8080/",
          "height": 0
        }
      },
      "execution_count": 130,
      "outputs": [
        {
          "output_type": "execute_result",
          "data": {
            "text/plain": [
              "array([[[0.36744638, 0.41749633],\n",
              "        [0.06279292, 0.49319322]],\n",
              "\n",
              "       [[0.1012238 , 0.3389282 ],\n",
              "        [0.65718498, 0.30011636]],\n",
              "\n",
              "       [[0.43535608, 0.30283205],\n",
              "        [0.8353265 , 0.51519461]]])"
            ]
          },
          "metadata": {},
          "execution_count": 130
        }
      ]
    },
    {
      "cell_type": "code",
      "source": [
        "type(arr22)"
      ],
      "metadata": {
        "id": "pQUaAJGLwuQz",
        "outputId": "0797e3ad-58d1-42a7-c2d1-1deb7f1ea4ea",
        "colab": {
          "base_uri": "https://localhost:8080/",
          "height": 0
        }
      },
      "execution_count": 131,
      "outputs": [
        {
          "output_type": "execute_result",
          "data": {
            "text/plain": [
              "numpy.ndarray"
            ]
          },
          "metadata": {},
          "execution_count": 131
        }
      ]
    },
    {
      "cell_type": "code",
      "source": [
        "#Numpy.logspace()- returns equally spaced numbers based on log scale.\n",
        "\n",
        "arr23 = np.logspace(7,23,10, endpoint = True, base=8, dtype='f')\n",
        "arr23"
      ],
      "metadata": {
        "id": "UsmU3AEiwwdA",
        "outputId": "42ea2c9e-c807-4523-8a2f-84689f02042e",
        "colab": {
          "base_uri": "https://localhost:8080/",
          "height": 0
        }
      },
      "execution_count": 134,
      "outputs": [
        {
          "output_type": "execute_result",
          "data": {
            "text/plain": [
              "array([2.0971520e+06, 8.4551872e+07, 3.4089178e+09, 1.3743895e+11,\n",
              "       5.5411915e+12, 2.2340683e+14, 9.0071993e+15, 3.6314753e+17,\n",
              "       1.4641190e+19, 5.9029581e+20], dtype=float32)"
            ]
          },
          "metadata": {},
          "execution_count": 134
        }
      ]
    },
    {
      "cell_type": "code",
      "source": [
        "arr23.dtype"
      ],
      "metadata": {
        "id": "tTlz8dJlx1zp",
        "outputId": "2e2ac1e5-9be8-4978-e000-d57a94badff2",
        "colab": {
          "base_uri": "https://localhost:8080/",
          "height": 0
        }
      },
      "execution_count": 135,
      "outputs": [
        {
          "output_type": "execute_result",
          "data": {
            "text/plain": [
              "dtype('float32')"
            ]
          },
          "metadata": {},
          "execution_count": 135
        }
      ]
    },
    {
      "cell_type": "code",
      "source": [
        "arr24 = np.logspace(5,23,12, endpoint = True, base=2)\n",
        "arr24"
      ],
      "metadata": {
        "id": "N94VSs5qyANZ",
        "outputId": "e74ba1b2-d8a9-4f2a-c2f2-e082329ccf55",
        "colab": {
          "base_uri": "https://localhost:8080/",
          "height": 0
        }
      },
      "execution_count": 136,
      "outputs": [
        {
          "output_type": "execute_result",
          "data": {
            "text/plain": [
              "array([3.20000000e+01, 9.94820020e+01, 3.09270898e+02, 9.61465253e+02,\n",
              "       2.98901526e+03, 9.29228818e+03, 2.88879822e+04, 8.98073221e+04,\n",
              "       2.79194131e+05, 8.67962223e+05, 2.69833186e+06, 8.38860800e+06])"
            ]
          },
          "metadata": {},
          "execution_count": 136
        }
      ]
    },
    {
      "cell_type": "code",
      "source": [
        "arr25 = np.logspace(4,24,20, endpoint = True, base=5)\n",
        "arr25"
      ],
      "metadata": {
        "id": "hELmg9uvyGfb",
        "outputId": "6751bebc-dcfd-44a3-97ef-7716e6203706",
        "colab": {
          "base_uri": "https://localhost:8080/",
          "height": 0
        }
      },
      "execution_count": 138,
      "outputs": [
        {
          "output_type": "execute_result",
          "data": {
            "text/plain": [
              "array([6.25000000e+02, 3.40124500e+03, 1.85095481e+04, 1.00728813e+05,\n",
              "       5.48165394e+05, 2.98311169e+06, 1.62340700e+07, 8.83456789e+07,\n",
              "       4.80776478e+08, 2.61638175e+09, 1.42383286e+10, 7.74848702e+10,\n",
              "       4.21672044e+11, 2.29473589e+12, 1.24879344e+13, 6.79592390e+13,\n",
              "       3.69833635e+14, 2.01263168e+15, 1.09527255e+16, 5.96046448e+16])"
            ]
          },
          "metadata": {},
          "execution_count": 138
        }
      ]
    },
    {
      "cell_type": "code",
      "source": [
        "arr26 = np.add(arr1,arr1)\n",
        "arr26"
      ],
      "metadata": {
        "id": "PzMylKA8yr-k",
        "outputId": "c2fdce5c-19aa-4986-cee7-e3c342394e36",
        "colab": {
          "base_uri": "https://localhost:8080/",
          "height": 0
        }
      },
      "execution_count": 141,
      "outputs": [
        {
          "output_type": "execute_result",
          "data": {
            "text/plain": [
              "array([ 2,  4,  6,  8, 10, 12, 14, 16, 18, 20])"
            ]
          },
          "metadata": {},
          "execution_count": 141
        }
      ]
    },
    {
      "cell_type": "code",
      "source": [
        "arr27 = np.subtract(arr26, arr1)\n",
        "arr27"
      ],
      "metadata": {
        "id": "klEnIw1RylhC",
        "outputId": "f909b684-216e-4c0e-f3e5-0f810205d256",
        "colab": {
          "base_uri": "https://localhost:8080/",
          "height": 0
        }
      },
      "execution_count": 143,
      "outputs": [
        {
          "output_type": "execute_result",
          "data": {
            "text/plain": [
              "array([ 1,  2,  3,  4,  5,  6,  7,  8,  9, 10])"
            ]
          },
          "metadata": {},
          "execution_count": 143
        }
      ]
    },
    {
      "cell_type": "code",
      "source": [
        "arr28 = np.multiply(arr27, arr26)\n",
        "arr28"
      ],
      "metadata": {
        "id": "0AHAjcj50Hc6",
        "outputId": "9e82f730-3d20-415c-c381-1893a6b96834",
        "colab": {
          "base_uri": "https://localhost:8080/",
          "height": 0
        }
      },
      "execution_count": 144,
      "outputs": [
        {
          "output_type": "execute_result",
          "data": {
            "text/plain": [
              "array([  2,   8,  18,  32,  50,  72,  98, 128, 162, 200])"
            ]
          },
          "metadata": {},
          "execution_count": 144
        }
      ]
    },
    {
      "cell_type": "code",
      "source": [
        "arr29 = np.divide(arr28, arr27)\n",
        "arr29"
      ],
      "metadata": {
        "id": "K5sf-iUT0RXZ",
        "outputId": "93383823-d117-4125-d914-cd7e71d245ba",
        "colab": {
          "base_uri": "https://localhost:8080/",
          "height": 0
        }
      },
      "execution_count": 145,
      "outputs": [
        {
          "output_type": "execute_result",
          "data": {
            "text/plain": [
              "array([ 2.,  4.,  6.,  8., 10., 12., 14., 16., 18., 20.])"
            ]
          },
          "metadata": {},
          "execution_count": 145
        }
      ]
    },
    {
      "cell_type": "code",
      "source": [
        "arr30 = np.remainder(arr28, arr27)\n",
        "arr30"
      ],
      "metadata": {
        "id": "zmciJNEj0dIg",
        "outputId": "3b1d21c0-1014-47cb-deaf-f19670e633fb",
        "colab": {
          "base_uri": "https://localhost:8080/",
          "height": 0
        }
      },
      "execution_count": 147,
      "outputs": [
        {
          "output_type": "execute_result",
          "data": {
            "text/plain": [
              "array([0, 0, 0, 0, 0, 0, 0, 0, 0, 0])"
            ]
          },
          "metadata": {},
          "execution_count": 147
        }
      ]
    },
    {
      "cell_type": "markdown",
      "source": [
        "**NumPy Array Interation**"
      ],
      "metadata": {
        "id": "9NumrgWr0zXU"
      }
    },
    {
      "cell_type": "code",
      "source": [
        "for x in arr29:\n",
        "  print(x)"
      ],
      "metadata": {
        "id": "lBDBzuiu0iOE",
        "outputId": "cafcc014-e2e2-435b-ba8d-b8e30d9563fd",
        "colab": {
          "base_uri": "https://localhost:8080/",
          "height": 0
        }
      },
      "execution_count": 149,
      "outputs": [
        {
          "output_type": "stream",
          "name": "stdout",
          "text": [
            "2.0\n",
            "4.0\n",
            "6.0\n",
            "8.0\n",
            "10.0\n",
            "12.0\n",
            "14.0\n",
            "16.0\n",
            "18.0\n",
            "20.0\n"
          ]
        }
      ]
    },
    {
      "cell_type": "code",
      "source": [
        "#terating through each scalar of an array we need to use n for loops which can be difficult to write for arrays with very high dimensionality.\n",
        "\n",
        "for x in np.nditer(arr25):\n",
        "  print(x)"
      ],
      "metadata": {
        "id": "c_98EUjr07-A",
        "outputId": "d528e428-ce81-4127-8a8a-d6f4968fff8e",
        "colab": {
          "base_uri": "https://localhost:8080/",
          "height": 0
        }
      },
      "execution_count": 152,
      "outputs": [
        {
          "output_type": "stream",
          "name": "stdout",
          "text": [
            "625.0\n",
            "3401.2450022824587\n",
            "18509.548104882244\n",
            "100728.81277798011\n",
            "548165.3936751197\n",
            "2983111.6890587243\n",
            "16234069.957858192\n",
            "88345678.89739037\n",
            "480776478.1167998\n",
            "2616381749.455563\n",
            "14238328559.038033\n",
            "77484870163.65393\n",
            "421672043834.6142\n",
            "2294735890711.5317\n",
            "12487934367745.29\n",
            "67959238971400.22\n",
            "369833635056629.8\n",
            "2012631684659712.8\n",
            "1.0952725534214646e+16\n",
            "5.960464477539062e+16\n"
          ]
        }
      ]
    },
    {
      "cell_type": "code",
      "source": [
        "arr22"
      ],
      "metadata": {
        "id": "9sZQqDio1eWn",
        "outputId": "32d94b5b-5fc2-431a-a8a2-9fd096031126",
        "colab": {
          "base_uri": "https://localhost:8080/",
          "height": 0
        }
      },
      "execution_count": 156,
      "outputs": [
        {
          "output_type": "execute_result",
          "data": {
            "text/plain": [
              "array([[[0.36744638, 0.41749633],\n",
              "        [0.06279292, 0.49319322]],\n",
              "\n",
              "       [[0.1012238 , 0.3389282 ],\n",
              "        [0.65718498, 0.30011636]],\n",
              "\n",
              "       [[0.43535608, 0.30283205],\n",
              "        [0.8353265 , 0.51519461]]])"
            ]
          },
          "metadata": {},
          "execution_count": 156
        }
      ]
    },
    {
      "cell_type": "code",
      "source": [
        "for x in np.nditer(arr22[:, ::2]):\n",
        "  print(x)"
      ],
      "metadata": {
        "id": "mYSOBKsz1Doy",
        "outputId": "9b853ea0-cede-4d5e-8cbb-d523c11ea41e",
        "colab": {
          "base_uri": "https://localhost:8080/",
          "height": 0
        }
      },
      "execution_count": 155,
      "outputs": [
        {
          "output_type": "stream",
          "name": "stdout",
          "text": [
            "0.36744638428881327\n",
            "0.4174963273040371\n",
            "0.10122379968068762\n",
            "0.33892819677791675\n",
            "0.43535607988641345\n",
            "0.3028320505462032\n"
          ]
        }
      ]
    },
    {
      "cell_type": "markdown",
      "source": [
        "**Joining of NumPy Arrays**\n",
        "\n",
        "Joining means putting contents of two or more arrays in a single array.\n",
        "\n",
        "In SQL we join tables based on a key, whereas in NumPy we join arrays by axes.\n",
        "\n",
        "We pass a sequence of arrays that we want to join to the concatenate(), along with the axis. If axis is not explicitly passed, it is taken as 0."
      ],
      "metadata": {
        "id": "aF92j2Zd144J"
      }
    },
    {
      "cell_type": "code",
      "source": [
        "arr31 = np.array([1, 2, 3])\n",
        "arr32 = np.array([4, 5, 6])\n",
        "arr33 = np.concatenate((arr31, arr32))\n",
        "print(arr33)"
      ],
      "metadata": {
        "id": "ZpfqeQL81Tci",
        "outputId": "be9de7f6-8a3a-4689-9441-b4e96c943805",
        "colab": {
          "base_uri": "https://localhost:8080/",
          "height": 0
        }
      },
      "execution_count": 158,
      "outputs": [
        {
          "output_type": "stream",
          "name": "stdout",
          "text": [
            "[1 2 3 4 5 6]\n"
          ]
        }
      ]
    },
    {
      "cell_type": "code",
      "source": [
        "arr1 = np.array([[1, 2], [3, 4]])\n",
        "arr2 = np.array([[5, 6], [7, 8]])\n",
        "arr = np.concatenate((arr1, arr2), axis=1)\n",
        "print(arr)"
      ],
      "metadata": {
        "id": "AiDoSpbY2IrM",
        "outputId": "61fdf128-d0d2-46ca-b33f-65ca8cb08260",
        "colab": {
          "base_uri": "https://localhost:8080/",
          "height": 0
        }
      },
      "execution_count": 159,
      "outputs": [
        {
          "output_type": "stream",
          "name": "stdout",
          "text": [
            "[[1 2 5 6]\n",
            " [3 4 7 8]]\n"
          ]
        }
      ]
    },
    {
      "cell_type": "code",
      "source": [
        "arr1 = np.array([[1, 2], [3, 4]])\n",
        "arr2 = np.array([[5, 6], [7, 8]])\n",
        "arr = np.concatenate((arr1, arr2), axis=0)\n",
        "print(arr)"
      ],
      "metadata": {
        "id": "BtP8xGuw2Yv4",
        "outputId": "cdf70cb0-37c2-468b-8f7b-9d81bfca17ef",
        "colab": {
          "base_uri": "https://localhost:8080/",
          "height": 0
        }
      },
      "execution_count": 160,
      "outputs": [
        {
          "output_type": "stream",
          "name": "stdout",
          "text": [
            "[[1 2]\n",
            " [3 4]\n",
            " [5 6]\n",
            " [7 8]]\n"
          ]
        }
      ]
    },
    {
      "cell_type": "markdown",
      "source": [
        "**Splitting NumPy Arrays**\n",
        "\n",
        "Splitting is reverse operation of Joining.\n",
        "\n",
        "Joining merges multiple arrays into one and Splitting breaks one array into multiple.\n",
        "\n",
        "We use array_split() for splitting arrays, we pass it the array we want to split and the number of splits.\n"
      ],
      "metadata": {
        "id": "rsg5VL6Q2eYP"
      }
    },
    {
      "cell_type": "code",
      "source": [
        "arr4 = np.array_split(arr, 3)\n",
        "arr4"
      ],
      "metadata": {
        "id": "UV-XP7EY2Z2J",
        "outputId": "2210392a-7da7-435c-b3b0-f61204f25f4f",
        "colab": {
          "base_uri": "https://localhost:8080/",
          "height": 0
        }
      },
      "execution_count": 162,
      "outputs": [
        {
          "output_type": "execute_result",
          "data": {
            "text/plain": [
              "[array([[1, 2],\n",
              "        [3, 4]]),\n",
              " array([[5, 6]]),\n",
              " array([[7, 8]])]"
            ]
          },
          "metadata": {},
          "execution_count": 162
        }
      ]
    },
    {
      "cell_type": "markdown",
      "source": [
        "**Searching elements in NumPy Arrays**\n",
        "\n",
        "You can search an array for a certain value, and return the indexes that get a match.\n",
        "\n",
        "To search an array, use the where() method.\n"
      ],
      "metadata": {
        "id": "_YVxVbVv3TSp"
      }
    },
    {
      "cell_type": "code",
      "source": [
        "x = np.where(arr4 == 1)\n",
        "x"
      ],
      "metadata": {
        "id": "Jm0Agry63Suk",
        "outputId": "3c5f9898-f8a7-44b6-a770-832ca5b584cd",
        "colab": {
          "base_uri": "https://localhost:8080/",
          "height": 0
        }
      },
      "execution_count": 164,
      "outputs": [
        {
          "output_type": "stream",
          "name": "stderr",
          "text": [
            "<ipython-input-164-c4bf374cb5ed>:1: DeprecationWarning: Calling nonzero on 0d arrays is deprecated, as it behaves surprisingly. Use `atleast_1d(cond).nonzero()` if the old behavior was intended. If the context of this warning is of the form `arr[nonzero(cond)]`, just use `arr[cond]`.\n",
            "  x = np.where(arr4 == 1)\n"
          ]
        },
        {
          "output_type": "execute_result",
          "data": {
            "text/plain": [
              "(array([], dtype=int64),)"
            ]
          },
          "metadata": {},
          "execution_count": 164
        }
      ]
    },
    {
      "cell_type": "markdown",
      "source": [
        "**Sorting of Arrays**\n",
        "\n",
        "Sorting means putting elements in an ordered sequence.\n",
        "\n",
        "Ordered sequence is any sequence that has an order corresponding to elements, like numeric or alphabetical, ascending or descending.\n",
        "\n",
        "The NumPy ndarray object has a function called sort(), that will sort a specified array.\n"
      ],
      "metadata": {
        "id": "Nw-me01-3ur8"
      }
    },
    {
      "cell_type": "code",
      "source": [
        "arr5 = np.sort(arr3)\n",
        "arr5"
      ],
      "metadata": {
        "id": "sTpPLhAs24e9",
        "outputId": "7c3e88ae-0ca2-49de-9d7d-3acb6ab72e20",
        "colab": {
          "base_uri": "https://localhost:8080/",
          "height": 0
        }
      },
      "execution_count": 166,
      "outputs": [
        {
          "output_type": "execute_result",
          "data": {
            "text/plain": [
              "array([ 1,  2,  3,  4,  5,  6,  7,  8,  9, 10, 11, 12])"
            ]
          },
          "metadata": {},
          "execution_count": 166
        }
      ]
    },
    {
      "cell_type": "code",
      "source": [
        "arr"
      ],
      "metadata": {
        "id": "rK0lTDev4K0N",
        "outputId": "5ea844df-13cc-4d2a-851f-783ec095c90b",
        "colab": {
          "base_uri": "https://localhost:8080/",
          "height": 0
        }
      },
      "execution_count": 170,
      "outputs": [
        {
          "output_type": "execute_result",
          "data": {
            "text/plain": [
              "array([[1, 2],\n",
              "       [3, 4],\n",
              "       [5, 6],\n",
              "       [7, 8]])"
            ]
          },
          "metadata": {},
          "execution_count": 170
        }
      ]
    },
    {
      "cell_type": "code",
      "source": [
        "#transpose\n",
        "arr6 = np.transpose(arr)\n",
        "arr6"
      ],
      "metadata": {
        "id": "TSgIKRrb35hP",
        "outputId": "1251476f-f669-4b4a-ce8c-8708397732eb",
        "colab": {
          "base_uri": "https://localhost:8080/",
          "height": 0
        }
      },
      "execution_count": 168,
      "outputs": [
        {
          "output_type": "execute_result",
          "data": {
            "text/plain": [
              "array([[1, 3, 5, 7],\n",
              "       [2, 4, 6, 8]])"
            ]
          },
          "metadata": {},
          "execution_count": 168
        }
      ]
    },
    {
      "cell_type": "code",
      "source": [
        "#append()-> adds value at the end of the array.\n",
        "\n",
        "arr7 = np.append(arr6, [[9,10,11,12]], axis = 0)\n",
        "arr7"
      ],
      "metadata": {
        "id": "W3lNu16t4E3l",
        "outputId": "bdae017a-de1b-4931-ffb1-d07ab6a6675c",
        "colab": {
          "base_uri": "https://localhost:8080/",
          "height": 0
        }
      },
      "execution_count": 174,
      "outputs": [
        {
          "output_type": "execute_result",
          "data": {
            "text/plain": [
              "array([[ 1,  3,  5,  7],\n",
              "       [ 2,  4,  6,  8],\n",
              "       [ 9, 10, 11, 12]])"
            ]
          },
          "metadata": {},
          "execution_count": 174
        }
      ]
    },
    {
      "cell_type": "code",
      "source": [
        "#insert()-> adds values at a given position and axis in an array.\n",
        "\n",
        "arr8 = np.insert(arr7,2,[5,5,5,5], axis = 0)\n",
        "arr8"
      ],
      "metadata": {
        "id": "P8Uy27OR4Tm5",
        "outputId": "86cc2eb7-4e1b-4dc9-f022-45aa29662f6b",
        "colab": {
          "base_uri": "https://localhost:8080/",
          "height": 0
        }
      },
      "execution_count": 175,
      "outputs": [
        {
          "output_type": "execute_result",
          "data": {
            "text/plain": [
              "array([[ 1,  3,  5,  7],\n",
              "       [ 2,  4,  6,  8],\n",
              "       [ 5,  5,  5,  5],\n",
              "       [ 9, 10, 11, 12]])"
            ]
          },
          "metadata": {},
          "execution_count": 175
        }
      ]
    },
    {
      "cell_type": "code",
      "source": [
        "#delete()- > removes values at a given position and axis in an array.\n",
        "\n",
        "arr9 = np.delete(arr8, 2, axis = 0)\n",
        "arr9"
      ],
      "metadata": {
        "id": "K68ZwFlu4x2U",
        "outputId": "b5c6ccc5-6783-4106-fbdf-e428c32665ab",
        "colab": {
          "base_uri": "https://localhost:8080/",
          "height": 0
        }
      },
      "execution_count": 178,
      "outputs": [
        {
          "output_type": "execute_result",
          "data": {
            "text/plain": [
              "array([[ 1,  3,  5,  7],\n",
              "       [ 2,  4,  6,  8],\n",
              "       [ 9, 10, 11, 12]])"
            ]
          },
          "metadata": {},
          "execution_count": 178
        }
      ]
    },
    {
      "cell_type": "code",
      "source": [
        "arr = np.array([41, 42, 43, 44])\n",
        "filter_arr = arr > 42\n",
        "newarr = arr[filter_arr]\n",
        "print(filter_arr)\n",
        "print(newarr)"
      ],
      "metadata": {
        "id": "ge1stgj15TTY",
        "outputId": "83297156-1d92-4e38-8885-4b81e6fef4e0",
        "colab": {
          "base_uri": "https://localhost:8080/",
          "height": 0
        }
      },
      "execution_count": 179,
      "outputs": [
        {
          "output_type": "stream",
          "name": "stdout",
          "text": [
            "[False False  True  True]\n",
            "[43 44]\n"
          ]
        }
      ]
    }
  ]
}
